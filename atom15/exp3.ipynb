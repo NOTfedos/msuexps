{
 "cells": [
  {
   "cell_type": "code",
   "execution_count": 1,
   "id": "3ef01f79-53dd-4e5d-9aa2-204bb5e1f2b5",
   "metadata": {},
   "outputs": [],
   "source": [
    "from uncertainties import ufloat, unumpy"
   ]
  },
  {
   "cell_type": "code",
   "execution_count": 2,
   "id": "bc4cfa69-1ee0-4d2d-9938-e931e88e0c35",
   "metadata": {},
   "outputs": [],
   "source": [
    "def func(I):\n",
    "    return ufloat(12.2, 0.14) * I + ufloat(113, 13)"
   ]
  },
  {
   "cell_type": "code",
   "execution_count": 8,
   "id": "4773b9a2-03a8-4fa8-b6fd-77debbc0ccd8",
   "metadata": {},
   "outputs": [],
   "source": [
    "dk0 = 4.67 * 1e-5 * func(394)"
   ]
  },
  {
   "cell_type": "code",
   "execution_count": 15,
   "id": "d6724a4c-ef84-4748-9072-d65593ef987d",
   "metadata": {},
   "outputs": [
    {
     "data": {
      "text/plain": [
       "2.1065949217308586+/-0.02426587970308163"
      ]
     },
     "execution_count": 15,
     "metadata": {},
     "output_type": "execute_result"
    }
   ],
   "source": [
    "(0.374 + 0.110) / dk0"
   ]
  },
  {
   "cell_type": "code",
   "execution_count": null,
   "id": "de08bcff-74c6-4eb9-b4ad-4683e7fbd7b1",
   "metadata": {},
   "outputs": [],
   "source": []
  }
 ],
 "metadata": {
  "kernelspec": {
   "display_name": "Python 3 (ipykernel)",
   "language": "python",
   "name": "python3"
  },
  "language_info": {
   "codemirror_mode": {
    "name": "ipython",
    "version": 3
   },
   "file_extension": ".py",
   "mimetype": "text/x-python",
   "name": "python",
   "nbconvert_exporter": "python",
   "pygments_lexer": "ipython3",
   "version": "3.10.5"
  }
 },
 "nbformat": 4,
 "nbformat_minor": 5
}
