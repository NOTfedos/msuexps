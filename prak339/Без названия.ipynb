{
 "cells": [
  {
   "cell_type": "code",
   "execution_count": 7,
   "id": "aff37815",
   "metadata": {},
   "outputs": [],
   "source": [
    "from uncertainties import unumpy, ufloat\n",
    "from math import pi"
   ]
  },
  {
   "cell_type": "code",
   "execution_count": 5,
   "id": "2bdd683f",
   "metadata": {},
   "outputs": [],
   "source": [
    "R = 1"
   ]
  },
  {
   "cell_type": "code",
   "execution_count": 6,
   "id": "9ee28d46",
   "metadata": {},
   "outputs": [],
   "source": [
    "r = ufloat(6.03, 0.25)\n",
    "C = 0.22 * 1e-6\n",
    "L = ufloat(3.114, 0.033) * 1e-3"
   ]
  },
  {
   "cell_type": "code",
   "execution_count": 21,
   "id": "e7e366c6",
   "metadata": {},
   "outputs": [],
   "source": [
    "w_0 = 1 / (L*C)**(0.5)"
   ]
  },
  {
   "cell_type": "code",
   "execution_count": 22,
   "id": "6c9be8e0",
   "metadata": {},
   "outputs": [],
   "source": [
    "w_l = 6286 * 2*pi"
   ]
  },
  {
   "cell_type": "code",
   "execution_count": 23,
   "id": "4818492e",
   "metadata": {},
   "outputs": [],
   "source": [
    "w_c = 6266 * 2 * pi"
   ]
  },
  {
   "cell_type": "code",
   "execution_count": 27,
   "id": "ef6edaf2",
   "metadata": {},
   "outputs": [
    {
     "name": "stdout",
     "output_type": "stream",
     "text": [
      "(9.5+/-1.5)e+07\n"
     ]
    }
   ],
   "source": [
    "print((w_c * w_l) - (w_0*w_0))"
   ]
  },
  {
   "cell_type": "code",
   "execution_count": 31,
   "id": "61e816a9",
   "metadata": {},
   "outputs": [
    {
     "name": "stdout",
     "output_type": "stream",
     "text": [
      "39370.43913478729\n",
      "39496.10284093088\n",
      "(3.821+/-0.020)e+04\n"
     ]
    }
   ],
   "source": [
    "print(w_c)\n",
    "print(w_l)\n",
    "print(w_0)"
   ]
  },
  {
   "cell_type": "code",
   "execution_count": 32,
   "id": "cfbbe35f",
   "metadata": {},
   "outputs": [],
   "source": [
    "x = w_c * w_l"
   ]
  },
  {
   "cell_type": "code",
   "execution_count": 33,
   "id": "a77b9438",
   "metadata": {},
   "outputs": [],
   "source": [
    "y = w_0 * w_0"
   ]
  },
  {
   "cell_type": "code",
   "execution_count": 34,
   "id": "31d5f647",
   "metadata": {},
   "outputs": [
    {
     "data": {
      "text/plain": [
       "0.065284953690752+/-0.01128914690809082"
      ]
     },
     "execution_count": 34,
     "metadata": {},
     "output_type": "execute_result"
    }
   ],
   "source": [
    "(x - y) / y"
   ]
  },
  {
   "cell_type": "code",
   "execution_count": 37,
   "id": "af86f0f4",
   "metadata": {},
   "outputs": [],
   "source": [
    "Q = (w_l+w_c)**(0.5) / 2 / (w_l-w_c)**(0.5)"
   ]
  },
  {
   "cell_type": "code",
   "execution_count": 38,
   "id": "216fbf54",
   "metadata": {},
   "outputs": [
    {
     "data": {
      "text/plain": [
       "12.525973016097458"
      ]
     },
     "execution_count": 38,
     "metadata": {},
     "output_type": "execute_result"
    }
   ],
   "source": [
    "Q"
   ]
  },
  {
   "cell_type": "code",
   "execution_count": 41,
   "id": "29fc0f19",
   "metadata": {},
   "outputs": [
    {
     "data": {
      "text/plain": [
       "4.280701754385965"
      ]
     },
     "execution_count": 41,
     "metadata": {},
     "output_type": "execute_result"
    }
   ],
   "source": [
    "2928 / (3291 - 2607)"
   ]
  },
  {
   "cell_type": "code",
   "execution_count": null,
   "id": "4ab4cd6e",
   "metadata": {},
   "outputs": [],
   "source": []
  }
 ],
 "metadata": {
  "kernelspec": {
   "display_name": "Python 3 (ipykernel)",
   "language": "python",
   "name": "python3"
  },
  "language_info": {
   "codemirror_mode": {
    "name": "ipython",
    "version": 3
   },
   "file_extension": ".py",
   "mimetype": "text/x-python",
   "name": "python",
   "nbconvert_exporter": "python",
   "pygments_lexer": "ipython3",
   "version": "3.8.10"
  }
 },
 "nbformat": 4,
 "nbformat_minor": 5
}
