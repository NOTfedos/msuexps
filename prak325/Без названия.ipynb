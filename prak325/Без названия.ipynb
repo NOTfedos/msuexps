{
 "cells": [
  {
   "cell_type": "code",
   "execution_count": 1,
   "id": "b7ec55b2",
   "metadata": {},
   "outputs": [],
   "source": [
    "from uncertainties import unumpy, ufloat"
   ]
  },
  {
   "cell_type": "code",
   "execution_count": 6,
   "id": "4b2843c0",
   "metadata": {},
   "outputs": [],
   "source": [
    "I_a = ufloat(1.5, 0.05) * 1e-3\n",
    "U = ufloat(11.0, 0.1)\n",
    "e = 1.6021766208 * 1e-19\n",
    "k = 1.380649 * 1e-23\n",
    "dT = 600"
   ]
  },
  {
   "cell_type": "code",
   "execution_count": 9,
   "id": "c6fd4027",
   "metadata": {},
   "outputs": [],
   "source": [
    "R = unumpy.uarray([37.30, 36.34, 37.97, 36.94, 36.44, 36.34],\n",
    "                 [0.6]*6)\n",
    "I_n = unumpy.uarray([60, 58, 56, 58, 58, 58],\n",
    "                   [1]*6) * 1e-3\n",
    "dI_n = unumpy.uarray([1.88, 1.86, 1.86, 1.84, 1.90, 1.80],\n",
    "                    [0.01]*6) * 1e-3"
   ]
  },
  {
   "cell_type": "code",
   "execution_count": 16,
   "id": "50b8d049",
   "metadata": {},
   "outputs": [
    {
     "name": "stdout",
     "output_type": "stream",
     "text": [
      "5.51+/-0.23\n",
      "5.12+/-0.22\n",
      "5.17+/-0.22\n",
      "5.15+/-0.22\n",
      "5.25+/-0.22\n",
      "4.96+/-0.21\n"
     ]
    }
   ],
   "source": [
    "arr = []\n",
    "for Res, i_n, di_n in zip(R, I_n, dI_n):\n",
    "    A = 2 * e * Res * i_n * di_n / I_a - 2 * k * dT\n",
    "    arr.append(A)\n",
    "    print(A / e)"
   ]
  },
  {
   "cell_type": "code",
   "execution_count": 13,
   "id": "3a250c4b",
   "metadata": {},
   "outputs": [
    {
     "name": "stdout",
     "output_type": "stream",
     "text": [
      "0.10340799999769915\n"
     ]
    }
   ],
   "source": [
    "print(2 * k * dT / e)"
   ]
  },
  {
   "cell_type": "code",
   "execution_count": 18,
   "id": "02db3e24",
   "metadata": {},
   "outputs": [
    {
     "name": "stdout",
     "output_type": "stream",
     "text": [
      "5.19+/-0.18\n"
     ]
    }
   ],
   "source": [
    "print(sum(arr) / len(arr) / e)"
   ]
  },
  {
   "cell_type": "code",
   "execution_count": null,
   "id": "9939b977",
   "metadata": {},
   "outputs": [],
   "source": []
  }
 ],
 "metadata": {
  "kernelspec": {
   "display_name": "Python 3 (ipykernel)",
   "language": "python",
   "name": "python3"
  },
  "language_info": {
   "codemirror_mode": {
    "name": "ipython",
    "version": 3
   },
   "file_extension": ".py",
   "mimetype": "text/x-python",
   "name": "python",
   "nbconvert_exporter": "python",
   "pygments_lexer": "ipython3",
   "version": "3.8.10"
  }
 },
 "nbformat": 4,
 "nbformat_minor": 5
}
